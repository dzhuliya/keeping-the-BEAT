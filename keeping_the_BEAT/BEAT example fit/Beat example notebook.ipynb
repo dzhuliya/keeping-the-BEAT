{
 "cells": [
  {
   "cell_type": "markdown",
   "id": "329aa14f",
   "metadata": {},
   "source": [
    "# Example: Fitting Broad components and Narrow-Line Region Emission Lines \n",
    "\n",
    "This notebook steps through using the BEAT routine to fit multiple components to [O III] 4959,5007 and H-beta emission lines in PG_1307+085 which also includes some broad components. Spectra for this notebook are included in the 'spectra_pg' folder."
   ]
  },
  {
   "cell_type": "code",
   "execution_count": 1,
   "id": "167d6b63",
   "metadata": {},
   "outputs": [],
   "source": [
    "import beat\n",
    "import numpy as np\n",
    "import os\n",
    "import matplotlib.pyplot as plt"
   ]
  },
  {
   "cell_type": "markdown",
   "id": "317cf87f",
   "metadata": {},
   "source": [
    "# Reading in data\n",
    "\n",
    "Here we define a function (load_file) to read a spectrum .txt file and create arrays for wavelength, flux, and noise (i.e. error). In this example, the .txt files being read only have 3 columns of data - wavelength, flux, and noise.\n",
    "\n",
    "We use numpy.loadtxt to read in the data, but one can use any method that returns the required wavelength, flux, and noise arrays. "
   ]
  },
  {
   "cell_type": "code",
   "execution_count": 16,
   "id": "d2034a73",
   "metadata": {},
   "outputs": [],
   "source": [
    "def load_file(filepath):\n",
    "    \"\"\"reads file and returns wave, flux, and noise arrays to pass to fitting code\"\"\"\n",
    "    #wave, flux, noise = np.loadtxt(filepath, usecols=(0, 1, 2), unpack=True, delimiter='\\t', skiprows=1)\n",
    "    wave, flux, noise = np.loadtxt(filepath, usecols=(0, 1, 2), unpack=True, delimiter=',', skiprows=0)\n",
    "    return wave, flux, noise"
   ]
  },
  {
   "cell_type": "markdown",
   "id": "9dc59d33",
   "metadata": {},
   "source": [
    "# Fitting a spectrum"
   ]
  },
  {
   "cell_type": "markdown",
   "id": "3c4b0bef",
   "metadata": {},
   "source": [
    "Run the next two cells without changing anything. This will run BEAT and produce an output folder, in this case called `ngc7319_out`. If BEAT ran succesffully, the `plots` folder within `ngc7319_out` will show three plot files for zero-, one-, and two-component fits.\n",
    "\n",
    "A description of the parameters in the `main()` function are on the docs page (link), although the docs page and more advanced Jupyter notebooks will have more details."
   ]
  },
  {
   "cell_type": "code",
   "execution_count": 17,
   "id": "411a63df",
   "metadata": {},
   "outputs": [],
   "source": [
    "def main():\n",
    "    target_param = {'name': 'ngc7319',      # Name of target\n",
    "                    'red': 0.022,    # Redshift of target\n",
    "                    #'minwidth': 3.83, # Minimum Gaussian sigma value to be fit to features [wavelength units]\n",
    "                    'minwidth': 1.5, #2.16, # Minimum Gaussian sigma value to be fit to features [wavelength units]\n",
    "                    'maxwidth': 5,    # Maximum Gaussian sigma value to be fit to features [wavelength units]\n",
    "                    'start': 3180,       # Minimum array value of used spectrum [array units]\n",
    "                    #'end': 1100,        # STIS Maximum array value of used spectrum [array units]\n",
    "                    'end': 3910,        # APO Maximum array value of used spectrum [array units]\n",
    "                    'fluxsigma': 3,    # The factor n multiplied by continuum standard deviation (i.e. n x std. dev.) to set minimum flux height. This is often 3.\n",
    "                    'plotmin': 6400,   # The x-axis minimum wavelength in output plots [wavelength units]\n",
    "                    'plotmax': 6900,#6725,   # The x-axis maximum wavelength in output plots [wavelength units]\n",
    "                    'maxcomp': 2,      # The maximum number of components that should be attempted per line. This is often 3.\n",
    "                    'lnz': 5.0,        # Minimum acceptable logarithm of the ratio of Bayesian evidences. This should usually be 5.\n",
    "                    'cores' : 3}       # Number of processors that are free to be assigned to multiprocessing pool\n",
    "    \n",
    "    cont_instructions = {'form': 'model',            # Type of input continuum; currently 'model' only\n",
    "                         'cont_poly':1,              # Degree of polynomial fit to continuum\n",
    "                         'continuum1': (6400, 6450), # First flux bin sampled to derive continuum, ideally to one side of your features(s) [wavelength units]\n",
    "                         #'continuum2': (6775, 6825)\n",
    "                        'continuum2': (6800, 6850)} # Second flux bin sampled to derive continuum, ideally to the other side of your features(s) [wavelength units]\n",
    "\n",
    "                        \n",
    "    fit_instructions = {\n",
    "                        'line1': # Instructions for narrow line component OIII (5008)\n",
    "                                {'name': 'halpha', \n",
    "                                 'wave': 6562.8, \n",
    "                                 'minwave': 6700, #should be redshifted version\n",
    "                                 'wave_range': 40.0, \n",
    "                                 'flux_free': True},     # Allow flux to vary freely\n",
    "                         'line2': # Instructions for narrow line component H-Beta (4861)\n",
    "                                {'name': 'nii', \n",
    "                                 'wave': 6583.46, \n",
    "                                 #'minwave': 6583.46,#*(1+ 0.003859) - 26, \n",
    "                                 #'wave_range': 52.0, \n",
    "                                 'flux_free': True},       # Allow flux to vary freely\n",
    "                        'line3': # Instructions for narrow line component OIII (4960)\n",
    "                                {'name': 'nii', \n",
    "                                  'wave': 6548.04, \n",
    "                                  'flux_free': False,     # Lock flux with another component\n",
    "                                  'locked_with': 'line2', # Lock flux w/ 'line1' (OIII 5008)\n",
    "                                  'flux_ratio': 3},       # Flux ratio between line2/line3 = 3\n",
    "                       \n",
    "    }\n",
    "    \n",
    "    fit = beat.Fit(out_dir='', #beat_fits\n",
    "                   spec_dir='spectrum',\n",
    "                   load_file=load_file,\n",
    "                   target_param=target_param,\n",
    "                   cont_instructions=cont_instructions,\n",
    "                   fit_instructions=fit_instructions,\n",
    "                   )\n",
    "    fit.mp_handler()"
   ]
  },
  {
   "cell_type": "code",
   "execution_count": 18,
   "id": "dc5c25df",
   "metadata": {
    "scrolled": false
   },
   "outputs": [
    {
     "name": "stdout",
     "output_type": "stream",
     "text": [
      "remaining to fit: 2\n",
      "Fitting NGC7319.csv\n",
      "Min Y: 3.48e-16\n",
      "Max Y: 2.22e-15\n",
      " *****************************************************\n",
      " MultiNest v3.10\n",
      " Copyright Farhan Feroz & Mike Hobson\n",
      " Release Jul 2015\n",
      "\n",
      " no. of live points =  200\n",
      " dimensionality =    1\n",
      " *****************************************************\n",
      " ln(ev)=  -336.53376355324764      +/-   5.0604308311441246E-007\n",
      " Total Likelihood Evaluations:          200\n",
      " Sampling finished. Exiting MultiNest\n",
      "components:  0\n",
      "NGC7319.csv: trying 1 component(s)\n",
      " *****************************************************\n",
      " MultiNest v3.10\n",
      " Copyright Farhan Feroz & Mike Hobson\n",
      " Release Jul 2015\n",
      "\n",
      " no. of live points =  200\n",
      " dimensionality =    4\n",
      " *****************************************************\n",
      " ln(ev)=  -98.136213991573541      +/-  0.23871108162676227     \n",
      " Total Likelihood Evaluations:         5566\n",
      " Sampling finished. Exiting MultiNest\n",
      "components:  1\n",
      "broad profile:  [6.40677243e+03 1.00700488e+02 1.50608395e-14]\n",
      "NGC7319.csv: trying 2 component(s)\n",
      " *****************************************************\n",
      " MultiNest v3.10\n",
      " Copyright Farhan Feroz & Mike Hobson\n",
      " Release Jul 2015\n",
      "\n",
      " no. of live points =  200\n",
      " dimensionality =    8\n",
      " *****************************************************\n",
      " ln(ev)=  -97.363821161245824      +/-  0.28441035891368016     \n",
      " Total Likelihood Evaluations:        17305\n",
      " Sampling finished. Exiting MultiNest\n",
      "components:  2\n",
      "broad profile:  [6.40677243e+03 1.00700488e+02 1.50608395e-14]\n",
      "NGC7319.csv fit with 1 components\n",
      "Average Continuum = 5.09e-16\n",
      "Standard deviation = 8.2767e-17\n"
     ]
    },
    {
     "ename": "UnicodeDecodeError",
     "evalue": "'utf-8' codec can't decode byte 0x80 in position 3131: invalid start byte",
     "output_type": "error",
     "traceback": [
      "\u001b[0;31m---------------------------------------------------------------------------\u001b[0m",
      "\u001b[0;31mRemoteTraceback\u001b[0m                           Traceback (most recent call last)",
      "\u001b[0;31mRemoteTraceback\u001b[0m: \n\"\"\"\nTraceback (most recent call last):\n  File \"/Users/juliafalcone/opt/anaconda3/lib/python3.7/multiprocessing/pool.py\", line 121, in worker\n    result = (True, func(*args, **kwds))\n  File \"/Users/juliafalcone/opt/anaconda3/lib/python3.7/multiprocessing/pool.py\", line 44, in mapstar\n    return list(map(*args))\n  File \"/Users/juliafalcone/School/Research/NGC3227/keeping-the-BEAT/fitting/BEAT example fit/beat.py\", line 396, in mp_worker\n    wave, flux, noise = self.load_file(inspecpath)\n  File \"/var/folders/g5/n7xst3bn1n33pt3cj8_gqbjr0000gn/T/ipykernel_71930/1414223663.py\", line 4, in load_file\n    wave, flux, noise = np.loadtxt(filepath, usecols=(0, 1, 2), unpack=True, delimiter=',', skiprows=0)\n  File \"/Users/juliafalcone/opt/anaconda3/lib/python3.7/site-packages/numpy/lib/npyio.py\", line 1112, in loadtxt\n    first_line = next(fh)\n  File \"/Users/juliafalcone/opt/anaconda3/lib/python3.7/codecs.py\", line 322, in decode\n    (result, consumed) = self._buffer_decode(data, self.errors, final)\nUnicodeDecodeError: 'utf-8' codec can't decode byte 0x80 in position 3131: invalid start byte\n\"\"\"",
      "\nThe above exception was the direct cause of the following exception:\n",
      "\u001b[0;31mUnicodeDecodeError\u001b[0m                        Traceback (most recent call last)",
      "\u001b[0;32m/var/folders/g5/n7xst3bn1n33pt3cj8_gqbjr0000gn/T/ipykernel_71930/451043146.py\u001b[0m in \u001b[0;36m<module>\u001b[0;34m\u001b[0m\n\u001b[0;32m----> 1\u001b[0;31m \u001b[0mmain\u001b[0m\u001b[0;34m(\u001b[0m\u001b[0;34m)\u001b[0m\u001b[0;34m\u001b[0m\u001b[0;34m\u001b[0m\u001b[0m\n\u001b[0m",
      "\u001b[0;32m/var/folders/g5/n7xst3bn1n33pt3cj8_gqbjr0000gn/T/ipykernel_71930/2726552302.py\u001b[0m in \u001b[0;36mmain\u001b[0;34m()\u001b[0m\n\u001b[1;32m     51\u001b[0m                    \u001b[0mfit_instructions\u001b[0m\u001b[0;34m=\u001b[0m\u001b[0mfit_instructions\u001b[0m\u001b[0;34m,\u001b[0m\u001b[0;34m\u001b[0m\u001b[0;34m\u001b[0m\u001b[0m\n\u001b[1;32m     52\u001b[0m                    )\n\u001b[0;32m---> 53\u001b[0;31m     \u001b[0mfit\u001b[0m\u001b[0;34m.\u001b[0m\u001b[0mmp_handler\u001b[0m\u001b[0;34m(\u001b[0m\u001b[0;34m)\u001b[0m\u001b[0;34m\u001b[0m\u001b[0;34m\u001b[0m\u001b[0m\n\u001b[0m",
      "\u001b[0;32m~/School/Research/NGC3227/keeping-the-BEAT/fitting/BEAT example fit/beat.py\u001b[0m in \u001b[0;36mmp_handler\u001b[0;34m(self)\u001b[0m\n\u001b[1;32m    509\u001b[0m         \u001b[0mprint\u001b[0m\u001b[0;34m(\u001b[0m\u001b[0;34mf'remaining to fit: {len(unfit_pix)}'\u001b[0m\u001b[0;34m)\u001b[0m\u001b[0;34m\u001b[0m\u001b[0;34m\u001b[0m\u001b[0m\n\u001b[1;32m    510\u001b[0m         \u001b[0mpool\u001b[0m \u001b[0;34m=\u001b[0m \u001b[0mmp\u001b[0m\u001b[0;34m.\u001b[0m\u001b[0mPool\u001b[0m\u001b[0;34m(\u001b[0m\u001b[0mprocesses\u001b[0m\u001b[0;34m=\u001b[0m\u001b[0mself\u001b[0m\u001b[0;34m.\u001b[0m\u001b[0mtarget_param\u001b[0m\u001b[0;34m[\u001b[0m\u001b[0;34m\"cores\"\u001b[0m\u001b[0;34m]\u001b[0m\u001b[0;34m)\u001b[0m\u001b[0;34m\u001b[0m\u001b[0;34m\u001b[0m\u001b[0m\n\u001b[0;32m--> 511\u001b[0;31m         \u001b[0mpool\u001b[0m\u001b[0;34m.\u001b[0m\u001b[0mmap\u001b[0m\u001b[0;34m(\u001b[0m\u001b[0mself\u001b[0m\u001b[0;34m.\u001b[0m\u001b[0mmp_worker\u001b[0m\u001b[0;34m,\u001b[0m \u001b[0munfit_pix\u001b[0m\u001b[0;34m)\u001b[0m\u001b[0;34m\u001b[0m\u001b[0;34m\u001b[0m\u001b[0m\n\u001b[0m",
      "\u001b[0;32m~/opt/anaconda3/lib/python3.7/multiprocessing/pool.py\u001b[0m in \u001b[0;36mmap\u001b[0;34m(self, func, iterable, chunksize)\u001b[0m\n\u001b[1;32m    266\u001b[0m         \u001b[0;32min\u001b[0m \u001b[0ma\u001b[0m \u001b[0mlist\u001b[0m \u001b[0mthat\u001b[0m \u001b[0;32mis\u001b[0m \u001b[0mreturned\u001b[0m\u001b[0;34m.\u001b[0m\u001b[0;34m\u001b[0m\u001b[0;34m\u001b[0m\u001b[0m\n\u001b[1;32m    267\u001b[0m         '''\n\u001b[0;32m--> 268\u001b[0;31m         \u001b[0;32mreturn\u001b[0m \u001b[0mself\u001b[0m\u001b[0;34m.\u001b[0m\u001b[0m_map_async\u001b[0m\u001b[0;34m(\u001b[0m\u001b[0mfunc\u001b[0m\u001b[0;34m,\u001b[0m \u001b[0miterable\u001b[0m\u001b[0;34m,\u001b[0m \u001b[0mmapstar\u001b[0m\u001b[0;34m,\u001b[0m \u001b[0mchunksize\u001b[0m\u001b[0;34m)\u001b[0m\u001b[0;34m.\u001b[0m\u001b[0mget\u001b[0m\u001b[0;34m(\u001b[0m\u001b[0;34m)\u001b[0m\u001b[0;34m\u001b[0m\u001b[0;34m\u001b[0m\u001b[0m\n\u001b[0m\u001b[1;32m    269\u001b[0m \u001b[0;34m\u001b[0m\u001b[0m\n\u001b[1;32m    270\u001b[0m     \u001b[0;32mdef\u001b[0m \u001b[0mstarmap\u001b[0m\u001b[0;34m(\u001b[0m\u001b[0mself\u001b[0m\u001b[0;34m,\u001b[0m \u001b[0mfunc\u001b[0m\u001b[0;34m,\u001b[0m \u001b[0miterable\u001b[0m\u001b[0;34m,\u001b[0m \u001b[0mchunksize\u001b[0m\u001b[0;34m=\u001b[0m\u001b[0;32mNone\u001b[0m\u001b[0;34m)\u001b[0m\u001b[0;34m:\u001b[0m\u001b[0;34m\u001b[0m\u001b[0;34m\u001b[0m\u001b[0m\n",
      "\u001b[0;32m~/opt/anaconda3/lib/python3.7/multiprocessing/pool.py\u001b[0m in \u001b[0;36mget\u001b[0;34m(self, timeout)\u001b[0m\n\u001b[1;32m    655\u001b[0m             \u001b[0;32mreturn\u001b[0m \u001b[0mself\u001b[0m\u001b[0;34m.\u001b[0m\u001b[0m_value\u001b[0m\u001b[0;34m\u001b[0m\u001b[0;34m\u001b[0m\u001b[0m\n\u001b[1;32m    656\u001b[0m         \u001b[0;32melse\u001b[0m\u001b[0;34m:\u001b[0m\u001b[0;34m\u001b[0m\u001b[0;34m\u001b[0m\u001b[0m\n\u001b[0;32m--> 657\u001b[0;31m             \u001b[0;32mraise\u001b[0m \u001b[0mself\u001b[0m\u001b[0;34m.\u001b[0m\u001b[0m_value\u001b[0m\u001b[0;34m\u001b[0m\u001b[0;34m\u001b[0m\u001b[0m\n\u001b[0m\u001b[1;32m    658\u001b[0m \u001b[0;34m\u001b[0m\u001b[0m\n\u001b[1;32m    659\u001b[0m     \u001b[0;32mdef\u001b[0m \u001b[0m_set\u001b[0m\u001b[0;34m(\u001b[0m\u001b[0mself\u001b[0m\u001b[0;34m,\u001b[0m \u001b[0mi\u001b[0m\u001b[0;34m,\u001b[0m \u001b[0mobj\u001b[0m\u001b[0;34m)\u001b[0m\u001b[0;34m:\u001b[0m\u001b[0;34m\u001b[0m\u001b[0;34m\u001b[0m\u001b[0m\n",
      "\u001b[0;31mUnicodeDecodeError\u001b[0m: 'utf-8' codec can't decode byte 0x80 in position 3131: invalid start byte"
     ]
    }
   ],
   "source": [
    "main()"
   ]
  },
  {
   "cell_type": "code",
   "execution_count": null,
   "id": "d89edac4",
   "metadata": {},
   "outputs": [],
   "source": []
  }
 ],
 "metadata": {
  "kernelspec": {
   "display_name": "Python 3 (ipykernel)",
   "language": "python",
   "name": "python3"
  },
  "language_info": {
   "codemirror_mode": {
    "name": "ipython",
    "version": 3
   },
   "file_extension": ".py",
   "mimetype": "text/x-python",
   "name": "python",
   "nbconvert_exporter": "python",
   "pygments_lexer": "ipython3",
   "version": "3.7.4"
  },
  "toc": {
   "base_numbering": 1,
   "nav_menu": {
    "height": "214px",
    "width": "562px"
   },
   "number_sections": true,
   "sideBar": true,
   "skip_h1_title": false,
   "title_cell": "Table of Contents",
   "title_sidebar": "Contents",
   "toc_cell": false,
   "toc_position": {
    "height": "533px",
    "left": "59px",
    "top": "111.133px",
    "width": "165px"
   },
   "toc_section_display": true,
   "toc_window_display": true
  }
 },
 "nbformat": 4,
 "nbformat_minor": 5
}
